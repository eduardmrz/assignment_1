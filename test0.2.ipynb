{
 "cells": [
  {
   "cell_type": "markdown",
   "metadata": {},
   "source": [
    "# Test 0.2"
   ]
  },
  {
   "cell_type": "code",
   "execution_count": 3,
   "metadata": {},
   "outputs": [],
   "source": [
    "import numpy as np\n",
    "import pandas as pd\n",
    "import matplotlib.pyplot as plt\n",
    "from sklearn.externals import joblib\n",
    "from scipy.sparse import csr_matrix, hstack\n",
    "from my_measures import BinaryClassificationPerformance\n",
    "%matplotlib inline"
   ]
  },
  {
   "cell_type": "markdown",
   "metadata": {},
   "source": [
    "# Read Raw Test Data"
   ]
  },
  {
   "cell_type": "code",
   "execution_count": 4,
   "metadata": {},
   "outputs": [
    {
     "name": "stdout",
     "output_type": "stream",
     "text": [
      "(91000, 14)\n"
     ]
    }
   ],
   "source": [
    "amazon = pd.read_csv('/Users/Eduardo/Desktop/raw_data_test.csv')\n",
    "print(amazon.shape)"
   ]
  },
  {
   "cell_type": "markdown",
   "metadata": {},
   "source": [
    "# Features Creation <p>\n",
    "Positivity, Negativity, Length"
   ]
  },
  {
   "cell_type": "code",
   "execution_count": 5,
   "metadata": {},
   "outputs": [
    {
     "data": {
      "text/html": [
       "<div>\n",
       "<style scoped>\n",
       "    .dataframe tbody tr th:only-of-type {\n",
       "        vertical-align: middle;\n",
       "    }\n",
       "\n",
       "    .dataframe tbody tr th {\n",
       "        vertical-align: top;\n",
       "    }\n",
       "\n",
       "    .dataframe thead th {\n",
       "        text-align: right;\n",
       "    }\n",
       "</style>\n",
       "<table border=\"1\" class=\"dataframe\">\n",
       "  <thead>\n",
       "    <tr style=\"text-align: right;\">\n",
       "      <th></th>\n",
       "      <th>Unnamed: 0</th>\n",
       "      <th>Unnamed: 0.1</th>\n",
       "      <th>Id</th>\n",
       "      <th>ProductId</th>\n",
       "      <th>UserId</th>\n",
       "      <th>ProfileName</th>\n",
       "      <th>HelpfulnessNumerator</th>\n",
       "      <th>HelpfulnessDenominator</th>\n",
       "      <th>Score</th>\n",
       "      <th>Time</th>\n",
       "      <th>Summary</th>\n",
       "      <th>Text</th>\n",
       "      <th>helpScore</th>\n",
       "      <th>helpful</th>\n",
       "      <th>positivity</th>\n",
       "      <th>negativity</th>\n",
       "      <th>length</th>\n",
       "    </tr>\n",
       "  </thead>\n",
       "  <tbody>\n",
       "    <tr>\n",
       "      <th>0</th>\n",
       "      <td>58438</td>\n",
       "      <td>123502</td>\n",
       "      <td>123503</td>\n",
       "      <td>B000VMBE8E</td>\n",
       "      <td>A17IQA4NDBK91W</td>\n",
       "      <td>maryinwilton</td>\n",
       "      <td>6</td>\n",
       "      <td>6</td>\n",
       "      <td>5</td>\n",
       "      <td>1199836800</td>\n",
       "      <td>Delicious Dark Chocolate Cookie</td>\n",
       "      <td>This is a excellent cookie.  If you want somet...</td>\n",
       "      <td>1.0</td>\n",
       "      <td>True</td>\n",
       "      <td>1</td>\n",
       "      <td>0</td>\n",
       "      <td>244</td>\n",
       "    </tr>\n",
       "  </tbody>\n",
       "</table>\n",
       "</div>"
      ],
      "text/plain": [
       "   Unnamed: 0  Unnamed: 0.1      Id   ProductId          UserId   ProfileName  \\\n",
       "0       58438        123502  123503  B000VMBE8E  A17IQA4NDBK91W  maryinwilton   \n",
       "\n",
       "   HelpfulnessNumerator  HelpfulnessDenominator  Score        Time  \\\n",
       "0                     6                       6      5  1199836800   \n",
       "\n",
       "                           Summary  \\\n",
       "0  Delicious Dark Chocolate Cookie   \n",
       "\n",
       "                                                Text  helpScore  helpful  \\\n",
       "0  This is a excellent cookie.  If you want somet...        1.0     True   \n",
       "\n",
       "   positivity  negativity  length  \n",
       "0           1           0     244  "
      ]
     },
     "execution_count": 5,
     "metadata": {},
     "output_type": "execute_result"
    }
   ],
   "source": [
    "amazon['positivity'] = np.where(amazon['Score'] > 3,1,0)\n",
    "amazon['negativity'] = np.where(amazon['Score'] < 3,1,0)\n",
    "amazon['length'] = amazon['Text'].str.len()\n",
    "amazon.head(1)"
   ]
  },
  {
   "cell_type": "markdown",
   "metadata": {},
   "source": [
    "# Quantitative Feature Selection <p>\n",
    "In the trainning process, I was exploring many combinations of features. However, the following selection had the best performace."
   ]
  },
  {
   "cell_type": "code",
   "execution_count": 6,
   "metadata": {},
   "outputs": [
    {
     "name": "stdout",
     "output_type": "stream",
     "text": [
      "   Score  positivity  length\n",
      "0      5           1     244\n",
      "1      5           1     384\n",
      "2      2           0     526\n",
      "3      5           1     318\n",
      "4      5           1    1461\n",
      "<class 'pandas.core.frame.DataFrame'>\n"
     ]
    }
   ],
   "source": [
    "X_quant_features_ed = amazon[[\"Score\",\"positivity\", \"length\"]]\n",
    "print(X_quant_features_ed.head(5))\n",
    "print(type(X_quant_features_ed))"
   ]
  },
  {
   "cell_type": "markdown",
   "metadata": {},
   "source": [
    "# Featured Extraction. Hashing Trick. <p>\n",
    "vectorizer = HashingVectorizer(n_features=2 ** 20, non_negative=True)\n",
    "\n"
   ]
  },
  {
   "cell_type": "code",
   "execution_count": null,
   "metadata": {},
   "outputs": [
    {
     "name": "stderr",
     "output_type": "stream",
     "text": [
      "/anaconda3/lib/python3.6/site-packages/sklearn/feature_extraction/hashing.py:94: DeprecationWarning: the option non_negative=True has been deprecated in 0.19 and will be removed in version 0.21.\n",
      "  \" in version 0.21.\", DeprecationWarning)\n"
     ]
    }
   ],
   "source": [
    "# vectorizer = HashingVectorizer(n_features=2 ** 20, non_negative=True)\n",
    "vectorizer = joblib.load('vectorizer.pkl')\n",
    "vector = vectorizer.transform(amazon.Text)\n",
    "print(vector.shape)\n",
    "print(type(vector))"
   ]
  },
  {
   "cell_type": "markdown",
   "metadata": {},
   "source": [
    "# Tfid Transformer <P>\n",
    "According to the Scikit-learn documentation, one of the limitations of the Hashing Vectorizer is that it does not provide IDF weighting as that would introduce statefulness in the model. Thus, a TfidfTransformer can be appended to it in a pipeline if required. Let´s do that."
   ]
  },
  {
   "cell_type": "code",
   "execution_count": 7,
   "metadata": {},
   "outputs": [
    {
     "name": "stdout",
     "output_type": "stream",
     "text": [
      "<class 'scipy.sparse.csr.csr_matrix'>\n"
     ]
    }
   ],
   "source": [
    "transformer = joblib.load('transformer.pkl')\n",
    "X_tfidf = transformer.transform(vector)\n",
    "print(type(X_tfidf))"
   ]
  },
  {
   "cell_type": "markdown",
   "metadata": {},
   "source": [
    "# All quantitative features combined as a Sparse Matrix"
   ]
  },
  {
   "cell_type": "code",
   "execution_count": 8,
   "metadata": {},
   "outputs": [
    {
     "name": "stdout",
     "output_type": "stream",
     "text": [
      "(91000, 1048579)\n"
     ]
    }
   ],
   "source": [
    "X_quant_features_csr = csr_matrix(X_quant_features_ed)\n",
    "X_combined = hstack([X_tfidf, X_quant_features_csr])\n",
    "# convert to sparse matrix\n",
    "X_matrix = csr_matrix(X_combined) \n",
    "print(X_matrix.shape)"
   ]
  },
  {
   "cell_type": "markdown",
   "metadata": {},
   "source": [
    "# Create X <P>\n",
    "Scaled matrix of features"
   ]
  },
  {
   "cell_type": "code",
   "execution_count": 9,
   "metadata": {},
   "outputs": [
    {
     "name": "stdout",
     "output_type": "stream",
     "text": [
      "(91000, 1048579)\n"
     ]
    }
   ],
   "source": [
    "sc = joblib.load('sc.pkl')\n",
    "X = sc.transform(X_matrix)\n",
    "print(X.shape)"
   ]
  },
  {
   "cell_type": "markdown",
   "metadata": {},
   "source": [
    "# Create Y <P>\n",
    "Vector of labels (helpful)"
   ]
  },
  {
   "cell_type": "code",
   "execution_count": 10,
   "metadata": {},
   "outputs": [
    {
     "name": "stdout",
     "output_type": "stream",
     "text": [
      "<class 'numpy.ndarray'>\n"
     ]
    }
   ],
   "source": [
    "y = amazon['helpful'].values\n",
    "print(type(y))"
   ]
  },
  {
   "cell_type": "markdown",
   "metadata": {},
   "source": [
    "# Predict y  and Performance Results<P>\n",
    "<b>Ridge Regression Classifier: </b> accuracy: 0.92402197802197805 <p>\n",
    "ridge_1 = linear_model.RidgeClassifier(alpha=0.1)\n",
    "\n"
   ]
  },
  {
   "cell_type": "code",
   "execution_count": 16,
   "metadata": {},
   "outputs": [
    {
     "name": "stdout",
     "output_type": "stream",
     "text": [
      "{'Pos': 6634, 'Neg': 84366, 'TP': 1065, 'TN': 83021, 'FP': 1345, 'FN': 5569, 'Accuracy': 0.924021978021978, 'Precision': 0.44190871369294604, 'Recall': 0.16053662948447392, 'desc': 'ridge_1'}\n"
     ]
    }
   ],
   "source": [
    "ridge_1 = joblib.load('ridge_1.pkl')\n",
    "ridge_performance_1 = BinaryClassificationPerformance(ridge_1.predict(X), y, 'ridge_1')\n",
    "ridge_performance_1.compute_measures()\n",
    "print(ridge_performance_1.performance_measures)"
   ]
  },
  {
   "cell_type": "code",
   "execution_count": 14,
   "metadata": {},
   "outputs": [
    {
     "name": "stdout",
     "output_type": "stream",
     "text": [
      "{'Pos': 6634, 'Neg': 84366, 'TP': 2734, 'TN': 79381, 'FP': 4985, 'FN': 3900, 'Accuracy': 0.9023626373626373, 'Precision': 0.3541909573778987, 'Recall': 0.4121193849864335, 'desc': 'multilayer'}\n"
     ]
    }
   ],
   "source": [
    "multilayer = joblib.load('multilayer.pkl')\n",
    "multilayer_performance = BinaryClassificationPerformance(multilayer.predict(X), y, 'multilayer')\n",
    "multilayer_performance.compute_measures()\n",
    "print(multilayer_performance.performance_measures)"
   ]
  },
  {
   "cell_type": "code",
   "execution_count": 18,
   "metadata": {},
   "outputs": [
    {
     "name": "stdout",
     "output_type": "stream",
     "text": [
      "{'Pos': 6634, 'Neg': 84366, 'TP': 1925, 'TN': 84321, 'FP': 45, 'FN': 4709, 'Accuracy': 0.9477582417582417, 'Precision': 0.9771573604060914, 'Recall': 0.29017184202592705, 'desc': 'forest'}\n"
     ]
    }
   ],
   "source": [
    "forest = joblib.load('forest.pkl')\n",
    "forest_performance = BinaryClassificationPerformance(forest.predict(X), y, 'forest')\n",
    "forest_performance.compute_measures()\n",
    "print(forest_performance.performance_measures)"
   ]
  },
  {
   "cell_type": "code",
   "execution_count": 19,
   "metadata": {},
   "outputs": [
    {
     "name": "stdout",
     "output_type": "stream",
     "text": [
      "{'Pos': 6634, 'Neg': 84366, 'TP': 1983, 'TN': 84314, 'FP': 52, 'FN': 4651, 'Accuracy': 0.9483186813186814, 'Precision': 0.9744471744471744, 'Recall': 0.29891468194151344, 'desc': 'forest2'}\n"
     ]
    }
   ],
   "source": [
    "forest2 = joblib.load('forest2.pkl')\n",
    "forest_performance2 = BinaryClassificationPerformance(forest2.predict(X), y, 'forest2')\n",
    "forest_performance2.compute_measures()\n",
    "print(forest_performance2.performance_measures)"
   ]
  },
  {
   "cell_type": "code",
   "execution_count": 26,
   "metadata": {},
   "outputs": [
    {
     "name": "stdout",
     "output_type": "stream",
     "text": [
      "{'Pos': 6634, 'Neg': 84366, 'TP': 1731, 'TN': 79407, 'FP': 4959, 'FN': 4903, 'Accuracy': 0.8916263736263736, 'Precision': 0.2587443946188341, 'Recall': 0.26092854989448294, 'desc': 'logistic'}\n"
     ]
    }
   ],
   "source": [
    "logistic = joblib.load('logistic.pkl')\n",
    "logistic_performance = BinaryClassificationPerformance(logistic.predict(X), y, 'logistic')\n",
    "logistic_performance.compute_measures()\n",
    "print(logistic_performance.performance_measures)"
   ]
  },
  {
   "cell_type": "code",
   "execution_count": 28,
   "metadata": {},
   "outputs": [
    {
     "name": "stdout",
     "output_type": "stream",
     "text": [
      "{'Pos': 6634, 'Neg': 84366, 'TP': 1387, 'TN': 82032, 'FP': 2334, 'FN': 5247, 'Accuracy': 0.9166923076923077, 'Precision': 0.3727492609513572, 'Recall': 0.2090744648779017, 'desc': 'logistic2'}\n"
     ]
    }
   ],
   "source": [
    "logistic2 = joblib.load('logistic2.pkl')\n",
    "logistic_performance2 = BinaryClassificationPerformance(logistic2.predict(X), y, 'logistic2')\n",
    "logistic_performance2.compute_measures()\n",
    "print(logistic_performance2.performance_measures)"
   ]
  },
  {
   "cell_type": "code",
   "execution_count": 31,
   "metadata": {},
   "outputs": [
    {
     "name": "stdout",
     "output_type": "stream",
     "text": [
      "{'Pos': 6634, 'Neg': 84366, 'TP': 1766, 'TN': 79268, 'FP': 5098, 'FN': 4868, 'Accuracy': 0.8904835164835165, 'Precision': 0.2572843822843823, 'Recall': 0.26620440156768166, 'desc': 'prc'}\n"
     ]
    }
   ],
   "source": [
    "prc = joblib.load('prc.pkl')\n",
    "prc_performance = BinaryClassificationPerformance(prc.predict(X), y, 'prc')\n",
    "prc_performance.compute_measures()\n",
    "print(prc_performance.performance_measures)"
   ]
  },
  {
   "cell_type": "code",
   "execution_count": 38,
   "metadata": {},
   "outputs": [
    {
     "data": {
      "image/png": "[encoded data removed]",
      "text/plain": [
       "<matplotlib.figure.Figure at 0x1a224d9e10>"
      ]
     },
     "metadata": {},
     "output_type": "display_data"
    }
   ],
   "source": [
    "fits = [  ridge_performance_1, multilayer_performance, forest_performance, forest_performance2,logistic_performance,\n",
    "       logistic_performance2,prc_performance]\n",
    "\n",
    "for fit in fits:\n",
    "    plt.plot(fit.performance_measures['FP'] / fit.performance_measures['Neg'], \n",
    "             fit.performance_measures['TP'] / fit.performance_measures['Pos'], 'ro')\n",
    "    plt.text(fit.performance_measures['FP'] / fit.performance_measures['Neg'], \n",
    "             fit.performance_measures['TP'] / fit.performance_measures['Pos'], fit.desc)\n",
    "plt.axis([0, 0.2, 0, 0.5])\n",
    "plt.title('ROC plot: training set')\n",
    "plt.xlabel('False positive rate')\n",
    "plt.ylabel('True positive rate')\n",
    "plt.show()"
   ]
  },
  {
   "cell_type": "markdown",
   "metadata": {},
   "source": [
    "# Future Work <p>\n",
    "In the second iteration, I would like to explore some different features that I have been creating. For example, <b>Readability</b> based on The Automated Readability Index (ARI), and <b>writing style features</b> such as the number of total punctuations, number of exclamation marks, average word length and average sentence length.\n"
   ]
  }
 ],
 "metadata": {
  "kernelspec": {
   "display_name": "Python 3",
   "language": "python",
   "name": "python3"
  },
  "language_info": {
   "codemirror_mode": {
    "name": "ipython",
    "version": 3
   },
   "file_extension": ".py",
   "mimetype": "text/x-python",
   "name": "python",
   "nbconvert_exporter": "python",
   "pygments_lexer": "ipython3",
   "version": "3.6.4"
  }
 },
 "nbformat": 4,
 "nbformat_minor": 2
}
