{
 "cells": [
  {
   "cell_type": "markdown",
   "metadata": {},
   "source": [
    "# Amazon Food Review Dataset <p>\n",
    "    Predicting helpfulness."
   ]
  },
  {
   "cell_type": "code",
   "execution_count": 109,
   "metadata": {},
   "outputs": [],
   "source": [
    "import numpy as np\n",
    "import pandas as pd\n",
    "import matplotlib.pyplot as plt\n",
    "from sklearn.externals import joblib\n",
    "from my_measures import BinaryClassificationPerformance\n",
    "from sklearn.feature_extraction.text import TfidfTransformer\n",
    "from sklearn.feature_extraction.text import HashingVectorizer\n",
    "from scipy.sparse import csr_matrix, hstack\n",
    "from sklearn.preprocessing import StandardScaler\n",
    "from sklearn.naive_bayes import MultinomialNB\n",
    "from sklearn import linear_model\n",
    "from sklearn.ensemble import RandomForestClassifier\n",
    "from sklearn.neural_network import MLPClassifier\n",
    "import seaborn as sns\n",
    "%matplotlib inline"
   ]
  },
  {
   "cell_type": "markdown",
   "metadata": {},
   "source": [
    "# Read Raw Data Train"
   ]
  },
  {
   "cell_type": "code",
   "execution_count": 23,
   "metadata": {},
   "outputs": [
    {
     "name": "stdout",
     "output_type": "stream",
     "text": [
      "(364000, 14)\n",
      "**********\n",
      "4.183131868131868\n",
      "**********\n",
      "5.0\n",
      "**********\n",
      "0    5\n",
      "dtype: int64\n"
     ]
    }
   ],
   "source": [
    "amazon = pd.read_csv('/Users/Eduardo/Desktop/raw_data_train.csv')\n",
    "print(amazon.shape)\n",
    "print('**********')\n",
    "print(amazon['Score'].mean())\n",
    "print('**********')\n",
    "print(amazon['Score'].median())\n",
    "print('**********')\n",
    "print(amazon['Score'].mode())"
   ]
  },
  {
   "cell_type": "code",
   "execution_count": 24,
   "metadata": {},
   "outputs": [
    {
     "data": {
      "text/html": [
       "<div>\n",
       "<style scoped>\n",
       "    .dataframe tbody tr th:only-of-type {\n",
       "        vertical-align: middle;\n",
       "    }\n",
       "\n",
       "    .dataframe tbody tr th {\n",
       "        vertical-align: top;\n",
       "    }\n",
       "\n",
       "    .dataframe thead th {\n",
       "        text-align: right;\n",
       "    }\n",
       "</style>\n",
       "<table border=\"1\" class=\"dataframe\">\n",
       "  <thead>\n",
       "    <tr style=\"text-align: right;\">\n",
       "      <th></th>\n",
       "      <th>Unnamed: 0</th>\n",
       "      <th>Unnamed: 0.1</th>\n",
       "      <th>Id</th>\n",
       "      <th>ProductId</th>\n",
       "      <th>UserId</th>\n",
       "      <th>ProfileName</th>\n",
       "      <th>HelpfulnessNumerator</th>\n",
       "      <th>HelpfulnessDenominator</th>\n",
       "      <th>Score</th>\n",
       "      <th>Time</th>\n",
       "      <th>Summary</th>\n",
       "      <th>Text</th>\n",
       "      <th>helpScore</th>\n",
       "      <th>helpful</th>\n",
       "    </tr>\n",
       "  </thead>\n",
       "  <tbody>\n",
       "    <tr>\n",
       "      <th>0</th>\n",
       "      <td>392248</td>\n",
       "      <td>23559</td>\n",
       "      <td>23560</td>\n",
       "      <td>B000I4L5ZW</td>\n",
       "      <td>AU4E71CKR72M9</td>\n",
       "      <td>V. E. EMSWILER \"mother of 5 / artist\"</td>\n",
       "      <td>0</td>\n",
       "      <td>0</td>\n",
       "      <td>5</td>\n",
       "      <td>1271894400</td>\n",
       "      <td>Best Nacho Dip Ever!</td>\n",
       "      <td>This is the ONLY Nacho Cheese Dip I will eat! ...</td>\n",
       "      <td>NaN</td>\n",
       "      <td>False</td>\n",
       "    </tr>\n",
       "    <tr>\n",
       "      <th>1</th>\n",
       "      <td>203929</td>\n",
       "      <td>131036</td>\n",
       "      <td>131037</td>\n",
       "      <td>B0002L3BYE</td>\n",
       "      <td>A11I4LJOAOCJ5L</td>\n",
       "      <td>larry jones \"the expert\"</td>\n",
       "      <td>0</td>\n",
       "      <td>0</td>\n",
       "      <td>1</td>\n",
       "      <td>1341273600</td>\n",
       "      <td>They call it a dip!</td>\n",
       "      <td>What are you supposed to dip into this, bread,...</td>\n",
       "      <td>NaN</td>\n",
       "      <td>False</td>\n",
       "    </tr>\n",
       "  </tbody>\n",
       "</table>\n",
       "</div>"
      ],
      "text/plain": [
       "   Unnamed: 0  Unnamed: 0.1      Id   ProductId          UserId  \\\n",
       "0      392248         23559   23560  B000I4L5ZW   AU4E71CKR72M9   \n",
       "1      203929        131036  131037  B0002L3BYE  A11I4LJOAOCJ5L   \n",
       "\n",
       "                             ProfileName  HelpfulnessNumerator  \\\n",
       "0  V. E. EMSWILER \"mother of 5 / artist\"                     0   \n",
       "1               larry jones \"the expert\"                     0   \n",
       "\n",
       "   HelpfulnessDenominator  Score        Time               Summary  \\\n",
       "0                       0      5  1271894400  Best Nacho Dip Ever!   \n",
       "1                       0      1  1341273600   They call it a dip!   \n",
       "\n",
       "                                                Text  helpScore  helpful  \n",
       "0  This is the ONLY Nacho Cheese Dip I will eat! ...        NaN    False  \n",
       "1  What are you supposed to dip into this, bread,...        NaN    False  "
      ]
     },
     "execution_count": 24,
     "metadata": {},
     "output_type": "execute_result"
    }
   ],
   "source": [
    "amazon.head(2)"
   ]
  },
  {
   "cell_type": "markdown",
   "metadata": {},
   "source": [
    "# Features Creation <p>\n",
    "Positivity, Negativity, Length"
   ]
  },
  {
   "cell_type": "code",
   "execution_count": 25,
   "metadata": {},
   "outputs": [
    {
     "data": {
      "text/html": [
       "<div>\n",
       "<style scoped>\n",
       "    .dataframe tbody tr th:only-of-type {\n",
       "        vertical-align: middle;\n",
       "    }\n",
       "\n",
       "    .dataframe tbody tr th {\n",
       "        vertical-align: top;\n",
       "    }\n",
       "\n",
       "    .dataframe thead th {\n",
       "        text-align: right;\n",
       "    }\n",
       "</style>\n",
       "<table border=\"1\" class=\"dataframe\">\n",
       "  <thead>\n",
       "    <tr style=\"text-align: right;\">\n",
       "      <th></th>\n",
       "      <th>Unnamed: 0</th>\n",
       "      <th>Unnamed: 0.1</th>\n",
       "      <th>Id</th>\n",
       "      <th>ProductId</th>\n",
       "      <th>UserId</th>\n",
       "      <th>ProfileName</th>\n",
       "      <th>HelpfulnessNumerator</th>\n",
       "      <th>HelpfulnessDenominator</th>\n",
       "      <th>Score</th>\n",
       "      <th>Time</th>\n",
       "      <th>Summary</th>\n",
       "      <th>Text</th>\n",
       "      <th>helpScore</th>\n",
       "      <th>helpful</th>\n",
       "      <th>positivity</th>\n",
       "      <th>negativity</th>\n",
       "      <th>lenght</th>\n",
       "    </tr>\n",
       "  </thead>\n",
       "  <tbody>\n",
       "    <tr>\n",
       "      <th>0</th>\n",
       "      <td>392248</td>\n",
       "      <td>23559</td>\n",
       "      <td>23560</td>\n",
       "      <td>B000I4L5ZW</td>\n",
       "      <td>AU4E71CKR72M9</td>\n",
       "      <td>V. E. EMSWILER \"mother of 5 / artist\"</td>\n",
       "      <td>0</td>\n",
       "      <td>0</td>\n",
       "      <td>5</td>\n",
       "      <td>1271894400</td>\n",
       "      <td>Best Nacho Dip Ever!</td>\n",
       "      <td>This is the ONLY Nacho Cheese Dip I will eat! ...</td>\n",
       "      <td>NaN</td>\n",
       "      <td>False</td>\n",
       "      <td>1</td>\n",
       "      <td>0</td>\n",
       "      <td>242</td>\n",
       "    </tr>\n",
       "    <tr>\n",
       "      <th>1</th>\n",
       "      <td>203929</td>\n",
       "      <td>131036</td>\n",
       "      <td>131037</td>\n",
       "      <td>B0002L3BYE</td>\n",
       "      <td>A11I4LJOAOCJ5L</td>\n",
       "      <td>larry jones \"the expert\"</td>\n",
       "      <td>0</td>\n",
       "      <td>0</td>\n",
       "      <td>1</td>\n",
       "      <td>1341273600</td>\n",
       "      <td>They call it a dip!</td>\n",
       "      <td>What are you supposed to dip into this, bread,...</td>\n",
       "      <td>NaN</td>\n",
       "      <td>False</td>\n",
       "      <td>0</td>\n",
       "      <td>1</td>\n",
       "      <td>483</td>\n",
       "    </tr>\n",
       "    <tr>\n",
       "      <th>2</th>\n",
       "      <td>90525</td>\n",
       "      <td>239580</td>\n",
       "      <td>239581</td>\n",
       "      <td>B001E6K6B2</td>\n",
       "      <td>AD1HUS8ZWEWQK</td>\n",
       "      <td>S. Allen</td>\n",
       "      <td>0</td>\n",
       "      <td>0</td>\n",
       "      <td>5</td>\n",
       "      <td>1303948800</td>\n",
       "      <td>raison bran crunch cereal</td>\n",
       "      <td>This is one of my favorite \"healthy\" cereals. ...</td>\n",
       "      <td>NaN</td>\n",
       "      <td>False</td>\n",
       "      <td>1</td>\n",
       "      <td>0</td>\n",
       "      <td>412</td>\n",
       "    </tr>\n",
       "  </tbody>\n",
       "</table>\n",
       "</div>"
      ],
      "text/plain": [
       "   Unnamed: 0  Unnamed: 0.1      Id   ProductId          UserId  \\\n",
       "0      392248         23559   23560  B000I4L5ZW   AU4E71CKR72M9   \n",
       "1      203929        131036  131037  B0002L3BYE  A11I4LJOAOCJ5L   \n",
       "2       90525        239580  239581  B001E6K6B2   AD1HUS8ZWEWQK   \n",
       "\n",
       "                             ProfileName  HelpfulnessNumerator  \\\n",
       "0  V. E. EMSWILER \"mother of 5 / artist\"                     0   \n",
       "1               larry jones \"the expert\"                     0   \n",
       "2                               S. Allen                     0   \n",
       "\n",
       "   HelpfulnessDenominator  Score        Time                    Summary  \\\n",
       "0                       0      5  1271894400       Best Nacho Dip Ever!   \n",
       "1                       0      1  1341273600        They call it a dip!   \n",
       "2                       0      5  1303948800  raison bran crunch cereal   \n",
       "\n",
       "                                                Text  helpScore  helpful  \\\n",
       "0  This is the ONLY Nacho Cheese Dip I will eat! ...        NaN    False   \n",
       "1  What are you supposed to dip into this, bread,...        NaN    False   \n",
       "2  This is one of my favorite \"healthy\" cereals. ...        NaN    False   \n",
       "\n",
       "   positivity  negativity  lenght  \n",
       "0           1           0     242  \n",
       "1           0           1     483  \n",
       "2           1           0     412  "
      ]
     },
     "execution_count": 25,
     "metadata": {},
     "output_type": "execute_result"
    }
   ],
   "source": [
    "amazon['positivity'] = np.where(amazon['Score'] > 3,1,0)\n",
    "amazon['negativity'] = np.where(amazon['Score'] < 3,1,0)\n",
    "amazon['lenght'] = amazon['Text'].str.len()\n",
    "\n",
    "amazon.head(3)"
   ]
  },
  {
   "cell_type": "code",
   "execution_count": 122,
   "metadata": {},
   "outputs": [
    {
     "data": {
      "text/plain": [
       "<matplotlib.axes._subplots.AxesSubplot at 0x1a2d581be0>"
      ]
     },
     "execution_count": 122,
     "metadata": {},
     "output_type": "execute_result"
    },
    {
     "data": {
      "image/png": "[encoded data removed]",
      "text/plain": [
       "<matplotlib.figure.Figure at 0x1a236b1390>"
      ]
     },
     "metadata": {},
     "output_type": "display_data"
    }
   ],
   "source": [
    "sns.countplot(amazon['negativity'])\n"
   ]
  },
  {
   "cell_type": "code",
   "execution_count": 123,
   "metadata": {},
   "outputs": [
    {
     "data": {
      "text/plain": [
       "<matplotlib.axes._subplots.AxesSubplot at 0x1a2b648898>"
      ]
     },
     "execution_count": 123,
     "metadata": {},
     "output_type": "execute_result"
    },
    {
     "data": {
      "image/png": "[encoded data removed]",
      "text/plain": [
       "<matplotlib.figure.Figure at 0x1a2b640f60>"
      ]
     },
     "metadata": {},
     "output_type": "display_data"
    }
   ],
   "source": [
    "sns.countplot(amazon['positivity'])"
   ]
  },
  {
   "cell_type": "code",
   "execution_count": 118,
   "metadata": {},
   "outputs": [
    {
     "data": {
      "text/plain": [
       "<matplotlib.axes._subplots.AxesSubplot at 0x1a1fd11550>"
      ]
     },
     "execution_count": 118,
     "metadata": {},
     "output_type": "execute_result"
    },
    {
     "data": {
      "image/png": "[encoded data removed]",
      "text/plain": [
       "<matplotlib.figure.Figure at 0x1a22bef8d0>"
      ]
     },
     "metadata": {},
     "output_type": "display_data"
    }
   ],
   "source": [
    "sns.countplot(amazon['helpful'])"
   ]
  },
  {
   "cell_type": "code",
   "execution_count": 121,
   "metadata": {},
   "outputs": [
    {
     "data": {
      "text/plain": [
       "<matplotlib.axes._subplots.AxesSubplot at 0x1a233a7390>"
      ]
     },
     "execution_count": 121,
     "metadata": {},
     "output_type": "execute_result"
    },
    {
     "data": {
      "image/png": "[encoded data removed]",
      "text/plain": [
       "<matplotlib.figure.Figure at 0x1a23223710>"
      ]
     },
     "metadata": {},
     "output_type": "display_data"
    }
   ],
   "source": [
    " sns.countplot(amazon['Score'])"
   ]
  },
  {
   "cell_type": "markdown",
   "metadata": {},
   "source": [
    "#  Quantitative Feature Selection <p>\n"
   ]
  },
  {
   "cell_type": "code",
   "execution_count": 26,
   "metadata": {},
   "outputs": [
    {
     "name": "stdout",
     "output_type": "stream",
     "text": [
      "   Score  positivity  lenght\n",
      "0      5           1     242\n",
      "1      1           0     483\n",
      "2      5           1     412\n",
      "3      5           1     151\n",
      "4      4           1     922\n",
      "<class 'pandas.core.frame.DataFrame'>\n"
     ]
    }
   ],
   "source": [
    "X_quant_features_ed = amazon[[\"Score\",\"positivity\", \"lenght\"]]\n",
    "print(X_quant_features_ed.head(5))\n",
    "print(type(X_quant_features_ed))"
   ]
  },
  {
   "cell_type": "markdown",
   "metadata": {},
   "source": [
    "# Featured Extraction"
   ]
  },
  {
   "cell_type": "code",
   "execution_count": 27,
   "metadata": {},
   "outputs": [
    {
     "name": "stderr",
     "output_type": "stream",
     "text": [
      "/anaconda3/lib/python3.6/site-packages/sklearn/feature_extraction/hashing.py:94: DeprecationWarning: the option non_negative=True has been deprecated in 0.19 and will be removed in version 0.21.\n",
      "  \" in version 0.21.\", DeprecationWarning)\n"
     ]
    },
    {
     "name": "stdout",
     "output_type": "stream",
     "text": [
      "(364000, 1048576)\n",
      "<class 'scipy.sparse.csr.csr_matrix'>\n"
     ]
    },
    {
     "data": {
      "text/plain": [
       "['vectorizer.pkl']"
      ]
     },
     "execution_count": 27,
     "metadata": {},
     "output_type": "execute_result"
    }
   ],
   "source": [
    "# Implement the transformer: Hashing Vectorizer\n",
    "vectorizer = HashingVectorizer(n_features=2 ** 20, non_negative=True)\n",
    "# encode\n",
    "vector = vectorizer.transform(amazon.Text)\n",
    "# summarize encoded vector\n",
    "print(vector.shape)\n",
    "print(type(vector))\n",
    "#Model Persistance\n",
    "joblib.dump(vectorizer, 'vectorizer.pkl') # pickle"
   ]
  },
  {
   "cell_type": "markdown",
   "metadata": {},
   "source": [
    "# Tfid Transformer\n",
    "According to the Scikit-learn documentation, one of the limitations of the Hashing Vectorizer is that it does not provide IDF weighting as that would introduce statefulness in the model. Thus, a TfidfTransformer can be appended to it in a pipeline if required. Let´s do that."
   ]
  },
  {
   "cell_type": "code",
   "execution_count": 28,
   "metadata": {},
   "outputs": [
    {
     "data": {
      "text/plain": [
       "['transformer.pkl']"
      ]
     },
     "execution_count": 28,
     "metadata": {},
     "output_type": "execute_result"
    }
   ],
   "source": [
    "transformer = TfidfTransformer()\n",
    "X_tfidf = transformer.fit_transform(vector)\n",
    "#Model Persistance\n",
    "joblib.dump(transformer, 'transformer.pkl') # pickle"
   ]
  },
  {
   "cell_type": "markdown",
   "metadata": {},
   "source": [
    "# All quantitative features combined as a Sparse Matrix\n"
   ]
  },
  {
   "cell_type": "code",
   "execution_count": 29,
   "metadata": {},
   "outputs": [
    {
     "name": "stdout",
     "output_type": "stream",
     "text": [
      "(364000, 1048579)\n"
     ]
    }
   ],
   "source": [
    "X_quant_features_csr = csr_matrix(X_quant_features_ed)\n",
    "X_combined = hstack([X_tfidf, X_quant_features_csr])\n",
    "# convert to sparse matrix\n",
    "X_matrix = csr_matrix(X_combined) \n",
    "print(X_matrix.shape)"
   ]
  },
  {
   "cell_type": "code",
   "execution_count": 30,
   "metadata": {},
   "outputs": [
    {
     "name": "stdout",
     "output_type": "stream",
     "text": [
      "(364000, 1048579)\n"
     ]
    },
    {
     "data": {
      "text/plain": [
       "['sc.pkl']"
      ]
     },
     "execution_count": 30,
     "metadata": {},
     "output_type": "execute_result"
    }
   ],
   "source": [
    "sc = StandardScaler(with_mean=False)\n",
    "X = sc.fit_transform(X_matrix)\n",
    "print(X.shape)\n",
    "#Model Persistance\n",
    "joblib.dump(sc, 'sc.pkl') # pickle"
   ]
  },
  {
   "cell_type": "code",
   "execution_count": 31,
   "metadata": {},
   "outputs": [
    {
     "name": "stdout",
     "output_type": "stream",
     "text": [
      "<class 'numpy.ndarray'>\n"
     ]
    }
   ],
   "source": [
    "y = amazon['helpful'].values\n",
    "print(type(y))"
   ]
  },
  {
   "cell_type": "markdown",
   "metadata": {},
   "source": [
    "# Logistic A<p>\n",
    "    Exploring alpha=0.001"
   ]
  },
  {
   "cell_type": "code",
   "execution_count": 32,
   "metadata": {},
   "outputs": [
    {
     "name": "stderr",
     "output_type": "stream",
     "text": [
      "/anaconda3/lib/python3.6/site-packages/sklearn/linear_model/stochastic_gradient.py:128: FutureWarning: max_iter and tol parameters have been added in <class 'sklearn.linear_model.stochastic_gradient.SGDClassifier'> in 0.19. If both are left unset, they default to max_iter=5 and tol=None. If tol is not None, max_iter defaults to max_iter=1000. From 0.21, default max_iter will be 1000, and default tol will be 1e-3.\n",
      "  \"and default tol will be 1e-3.\" % type(self), FutureWarning)\n"
     ]
    },
    {
     "data": {
      "text/plain": [
       "['logistic.pkl']"
      ]
     },
     "execution_count": 32,
     "metadata": {},
     "output_type": "execute_result"
    }
   ],
   "source": [
    "logistic = linear_model.SGDClassifier(loss='log', alpha=0.001)\n",
    "logistic.fit(X, y)\n",
    "# Model Persistant\n",
    "joblib.dump(logistic, 'logistic.pkl') # pickle"
   ]
  },
  {
   "cell_type": "code",
   "execution_count": 48,
   "metadata": {},
   "outputs": [
    {
     "name": "stdout",
     "output_type": "stream",
     "text": [
      "{'Pos': 26601, 'Neg': 337399, 'TP': 13554, 'TN': 327089, 'FP': 10310, 'FN': 13047, 'Accuracy': 0.9358324175824175, 'Precision': 0.567968488099229, 'Recall': 0.509529716927935, 'desc': 'A'}\n"
     ]
    }
   ],
   "source": [
    "logistic_performance = BinaryClassificationPerformance(logistic.predict(X), y, 'A')\n",
    "logistic_performance.compute_measures()\n",
    "print(logistic_performance.performance_measures)"
   ]
  },
  {
   "cell_type": "markdown",
   "metadata": {},
   "source": [
    "# Logistic B<p>\n",
    "    \n",
    "    Exploring alpha=0.01"
   ]
  },
  {
   "cell_type": "code",
   "execution_count": 130,
   "metadata": {},
   "outputs": [
    {
     "name": "stderr",
     "output_type": "stream",
     "text": [
      "/anaconda3/lib/python3.6/site-packages/sklearn/linear_model/stochastic_gradient.py:128: FutureWarning: max_iter and tol parameters have been added in <class 'sklearn.linear_model.stochastic_gradient.SGDClassifier'> in 0.19. If both are left unset, they default to max_iter=5 and tol=None. If tol is not None, max_iter defaults to max_iter=1000. From 0.21, default max_iter will be 1000, and default tol will be 1e-3.\n",
      "  \"and default tol will be 1e-3.\" % type(self), FutureWarning)\n"
     ]
    },
    {
     "name": "stdout",
     "output_type": "stream",
     "text": [
      "{'Pos': 26601, 'Neg': 337399, 'TP': 11964, 'TN': 335123, 'FP': 2276, 'FN': 14637, 'Accuracy': 0.9535357142857143, 'Precision': 0.8401685393258427, 'Recall': 0.44975752791248447, 'desc': 'B'}\n"
     ]
    }
   ],
   "source": [
    "logistic2 = linear_model.SGDClassifier(loss='log', alpha=0.01)\n",
    "logistic2.fit(X, y)\n",
    "# Model Persistant\n",
    "joblib.dump(logistic2, 'logistic2.pkl') # pickle\n",
    "# Performance\n",
    "logistic_performance2 = BinaryClassificationPerformance(logistic2.predict(X), y, 'B')\n",
    "logistic_performance2.compute_measures()\n",
    "print(logistic_performance2.performance_measures)"
   ]
  },
  {
   "cell_type": "code",
   "execution_count": 62,
   "metadata": {},
   "outputs": [
    {
     "name": "stdout",
     "output_type": "stream",
     "text": [
      "{'Pos': 26601, 'Neg': 337399, 'TP': 12155, 'TN': 334963, 'FP': 2436, 'FN': 14446, 'Accuracy': 0.9536208791208791, 'Precision': 0.8330477691727778, 'Recall': 0.45693770910868015, 'desc': 'B'}\n"
     ]
    }
   ],
   "source": []
  },
  {
   "cell_type": "markdown",
   "metadata": {},
   "source": [
    "# Logistic C<p>\n",
    "    Exploring alpha=0.000000001"
   ]
  },
  {
   "cell_type": "code",
   "execution_count": 76,
   "metadata": {},
   "outputs": [
    {
     "name": "stderr",
     "output_type": "stream",
     "text": [
      "/anaconda3/lib/python3.6/site-packages/sklearn/linear_model/stochastic_gradient.py:128: FutureWarning: max_iter and tol parameters have been added in <class 'sklearn.linear_model.stochastic_gradient.SGDClassifier'> in 0.19. If both are left unset, they default to max_iter=5 and tol=None. If tol is not None, max_iter defaults to max_iter=1000. From 0.21, default max_iter will be 1000, and default tol will be 1e-3.\n",
      "  \"and default tol will be 1e-3.\" % type(self), FutureWarning)\n"
     ]
    },
    {
     "data": {
      "text/plain": [
       "['logistic3.pkl']"
      ]
     },
     "execution_count": 76,
     "metadata": {},
     "output_type": "execute_result"
    }
   ],
   "source": [
    "logistic3 = linear_model.SGDClassifier(loss='log', alpha=0.000000001)\n",
    "logistic3.fit(X, y)\n",
    "# Model Persistant\n",
    "joblib.dump(logistic3, 'logistic3.pkl') # pickle"
   ]
  },
  {
   "cell_type": "code",
   "execution_count": 77,
   "metadata": {},
   "outputs": [
    {
     "name": "stdout",
     "output_type": "stream",
     "text": [
      "{'Pos': 26601, 'Neg': 337399, 'TP': 13816, 'TN': 323976, 'FP': 13423, 'FN': 12785, 'Accuracy': 0.928, 'Precision': 0.5072139212159037, 'Recall': 0.5193789707153866, 'desc': 'C'}\n"
     ]
    }
   ],
   "source": [
    "logistic_performance3 = BinaryClassificationPerformance(logistic3.predict(X), y, 'C')\n",
    "logistic_performance3.compute_measures()\n",
    "print(logistic_performance3.performance_measures)"
   ]
  },
  {
   "cell_type": "markdown",
   "metadata": {},
   "source": [
    "# Perceptron"
   ]
  },
  {
   "cell_type": "code",
   "execution_count": 83,
   "metadata": {},
   "outputs": [
    {
     "name": "stderr",
     "output_type": "stream",
     "text": [
      "/anaconda3/lib/python3.6/site-packages/sklearn/linear_model/stochastic_gradient.py:128: FutureWarning: max_iter and tol parameters have been added in <class 'sklearn.linear_model.stochastic_gradient.SGDClassifier'> in 0.19. If both are left unset, they default to max_iter=5 and tol=None. If tol is not None, max_iter defaults to max_iter=1000. From 0.21, default max_iter will be 1000, and default tol will be 1e-3.\n",
      "  \"and default tol will be 1e-3.\" % type(self), FutureWarning)\n"
     ]
    },
    {
     "name": "stdout",
     "output_type": "stream",
     "text": [
      "{'Pos': 26601, 'Neg': 337399, 'TP': 13417, 'TN': 326091, 'FP': 11308, 'FN': 13184, 'Accuracy': 0.9327142857142857, 'Precision': 0.5426491405460061, 'Recall': 0.5043795346039622, 'desc': 'prc'}\n"
     ]
    }
   ],
   "source": [
    "prc = linear_model.SGDClassifier(loss='perceptron',  alpha=0.00001)\n",
    "prc.fit(X, y)\n",
    "# Model Persistant\n",
    "joblib.dump(prc, 'prc.pkl') # pickle\n",
    "# Performance\n",
    "prc_performance = BinaryClassificationPerformance(prc.predict(X), y, 'prc')\n",
    "prc_performance.compute_measures()\n",
    "print(prc_performance.performance_measures)"
   ]
  },
  {
   "cell_type": "markdown",
   "metadata": {},
   "source": [
    "# Naive Bayes"
   ]
  },
  {
   "cell_type": "code",
   "execution_count": 87,
   "metadata": {},
   "outputs": [
    {
     "name": "stdout",
     "output_type": "stream",
     "text": [
      "{'Pos': 26601, 'Neg': 337399, 'TP': 16348, 'TN': 308981, 'FP': 28418, 'FN': 10253, 'Accuracy': 0.893760989010989, 'Precision': 0.3651878657910021, 'Recall': 0.6145633622796135, 'desc': 'nbs'}\n"
     ]
    }
   ],
   "source": [
    "nbs = MultinomialNB()\n",
    "nbs.fit(X, y)\n",
    "#Model Persistance\n",
    "joblib.dump(nbs, 'nbs.pkl') # pickle\n",
    "#Performance\n",
    "nbs_performance = BinaryClassificationPerformance(nbs.predict(X), y, 'nbs')\n",
    "nbs_performance.compute_measures()\n",
    "print(nbs_performance.performance_measures)"
   ]
  },
  {
   "cell_type": "markdown",
   "metadata": {},
   "source": [
    "# Random Forest <p>\n",
    "   \n",
    "   <a href=\"http://scikit-learn.org/stable/modules/generated/sklearn.ensemble.RandomForestClassifier.html#sklearn.ensemble.RandomForestClassifier\">API Reference</a>\n",
    "    "
   ]
  },
  {
   "cell_type": "code",
   "execution_count": 90,
   "metadata": {},
   "outputs": [
    {
     "name": "stdout",
     "output_type": "stream",
     "text": [
      "{'Pos': 26601, 'Neg': 337399, 'TP': 22239, 'TN': 337347, 'FP': 52, 'FN': 4362, 'Accuracy': 0.9878736263736264, 'Precision': 0.9976672199542416, 'Recall': 0.8360212022104432, 'desc': 'forest'}\n"
     ]
    }
   ],
   "source": [
    "forest = RandomForestClassifier(n_estimators=10, max_depth=None,\n",
    "    min_samples_split=2, random_state=0)\n",
    "forest.fit(X, y)\n",
    "# Model persistance\n",
    "joblib.dump(forest, 'forest.pkl') # pickle\n",
    "# Performance\n",
    "forest_performance = BinaryClassificationPerformance(forest.predict(X), y, 'forest')\n",
    "forest_performance.compute_measures()\n",
    "print(forest_performance.performance_measures)"
   ]
  },
  {
   "cell_type": "markdown",
   "metadata": {},
   "source": [
    "# Random Forest 2"
   ]
  },
  {
   "cell_type": "code",
   "execution_count": 131,
   "metadata": {},
   "outputs": [
    {
     "name": "stdout",
     "output_type": "stream",
     "text": [
      "{'Pos': 26601, 'Neg': 337399, 'TP': 24538, 'TN': 337344, 'FP': 55, 'FN': 2063, 'Accuracy': 0.9941813186813186, 'Precision': 0.9977635912658074, 'Recall': 0.9224465245667456, 'desc': 'forest2'}\n"
     ]
    }
   ],
   "source": [
    "forest2 = RandomForestClassifier(n_estimators=20, max_depth=None,\n",
    "    min_samples_split=2, random_state=0)\n",
    "forest2.fit(X, y)\n",
    "# Model persistance\n",
    "joblib.dump(forest2, 'forest2.pkl') # pickle\n",
    "# Performance\n",
    "forest_performance2 = BinaryClassificationPerformance(forest2.predict(X), y, 'forest2')\n",
    "forest_performance2.compute_measures()\n",
    "print(forest_performance2.performance_measures)"
   ]
  },
  {
   "cell_type": "markdown",
   "metadata": {},
   "source": [
    "# Ridge Regression"
   ]
  },
  {
   "cell_type": "code",
   "execution_count": 36,
   "metadata": {},
   "outputs": [
    {
     "data": {
      "text/plain": [
       "['ridge_1.pkl']"
      ]
     },
     "execution_count": 36,
     "metadata": {},
     "output_type": "execute_result"
    }
   ],
   "source": [
    "# MODEL: Ridge Regression Classifier\n",
    "from sklearn import linear_model\n",
    "ridge_1 = linear_model.RidgeClassifier(alpha=0.1)\n",
    "ridge_1.fit(X, y)\n",
    "# Model Persistant\n",
    "joblib.dump(ridge_1, 'ridge_1.pkl') # pickle\n",
    "\n"
   ]
  },
  {
   "cell_type": "code",
   "execution_count": 37,
   "metadata": {},
   "outputs": [
    {
     "name": "stdout",
     "output_type": "stream",
     "text": [
      "{'Pos': 26601, 'Neg': 337399, 'TP': 9553, 'TN': 336828, 'FP': 571, 'FN': 17048, 'Accuracy': 0.9515961538461538, 'Precision': 0.9435993678387989, 'Recall': 0.35912183752490506, 'desc': 'ridge_1'}\n"
     ]
    }
   ],
   "source": [
    "ridge_performance_1 = BinaryClassificationPerformance(ridge_1.predict(X), y, 'ridge_1')\n",
    "c"
   ]
  },
  {
   "cell_type": "markdown",
   "metadata": {},
   "source": [
    "# Multilayer Perceptron\n",
    "\n",
    "http://scikit-learn.org/stable/modules/neural_networks_supervised.html"
   ]
  },
  {
   "cell_type": "code",
   "execution_count": 94,
   "metadata": {},
   "outputs": [
    {
     "data": {
      "text/plain": [
       "['multilayer.pkl']"
      ]
     },
     "execution_count": 94,
     "metadata": {},
     "output_type": "execute_result"
    }
   ],
   "source": [
    "multilayer = MLPClassifier(solver='lbfgs', alpha=1e-5,hidden_layer_sizes=(5, 2), random_state=1)\n",
    "multilayer.fit(X, y)  \n",
    "# Model Persistance\n",
    "joblib.dump(multilayer, 'multilayer.pkl') # pickle\n"
   ]
  },
  {
   "cell_type": "code",
   "execution_count": 95,
   "metadata": {},
   "outputs": [
    {
     "name": "stdout",
     "output_type": "stream",
     "text": [
      "{'Pos': 26601, 'Neg': 337399, 'TP': 26349, 'TN': 333391, 'FP': 4008, 'FN': 252, 'Accuracy': 0.9882967032967033, 'Precision': 0.8679711433936159, 'Recall': 0.9905266719296267, 'desc': 'multilayer'}\n"
     ]
    }
   ],
   "source": [
    "multilayer_performance = BinaryClassificationPerformance(multilayer.predict(X), y, 'multilayer')\n",
    "multilayer_performance.compute_measures()\n",
    "print(multilayer_performance.performance_measures)"
   ]
  },
  {
   "cell_type": "markdown",
   "metadata": {},
   "source": [
    "# Multilayer Perceptron 2\n"
   ]
  },
  {
   "cell_type": "code",
   "execution_count": null,
   "metadata": {},
   "outputs": [],
   "source": [
    "multilayer2 = MLPClassifier(solver='adam', alpha=1e-5,hidden_layer_sizes=(15,), random_state=1)\n",
    "multilayer2.fit(X, y)  \n",
    "# Model Persistance\n",
    "joblib.dump(multilayer2, 'multilayer2.pkl') # pickle"
   ]
  },
  {
   "cell_type": "markdown",
   "metadata": {},
   "source": [
    "# Performance Measures and Visualization"
   ]
  },
  {
   "cell_type": "code",
   "execution_count": 136,
   "metadata": {
    "scrolled": true
   },
   "outputs": [
    {
     "data": {
      "image/png": "[encoded data removed]",
      "text/plain": [
       "<matplotlib.figure.Figure at 0x1a2197bac8>"
      ]
     },
     "metadata": {},
     "output_type": "display_data"
    }
   ],
   "source": [
    "fits = [ logistic_performance,logistic_performance2,logistic_performance3,prc_performance,\n",
    "        nbs_performance, ridge_performance_1, forest_performance,forest_performance2, multilayer_performance ]\n",
    "\n",
    "for fit in fits:\n",
    "    plt.plot(fit.performance_measures['FP'] / fit.performance_measures['Neg'], \n",
    "             fit.performance_measures['TP'] / fit.performance_measures['Pos'], 'ro')\n",
    "    plt.text(fit.performance_measures['FP'] / fit.performance_measures['Neg'], \n",
    "             fit.performance_measures['TP'] / fit.performance_measures['Pos'], fit.desc)\n",
    "plt.axis([0, 0.09, 0, 1])\n",
    "plt.title('ROC plot: training set')\n",
    "plt.xlabel('False positive rate')\n",
    "plt.ylabel('True positive rate')\n",
    "plt.show()"
   ]
  }
 ],
 "metadata": {
  "kernelspec": {
   "display_name": "Python 3",
   "language": "python",
   "name": "python3"
  },
  "language_info": {
   "codemirror_mode": {
    "name": "ipython",
    "version": 3
   },
   "file_extension": ".py",
   "mimetype": "text/x-python",
   "name": "python",
   "nbconvert_exporter": "python",
   "pygments_lexer": "ipython3",
   "version": "3.6.4"
  }
 },
 "nbformat": 4,
 "nbformat_minor": 2
}
